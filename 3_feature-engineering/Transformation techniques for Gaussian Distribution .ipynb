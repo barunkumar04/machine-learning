{
 "cells": [
  {
   "cell_type": "markdown",
   "metadata": {},
   "source": [
    "\n",
    "# First thing first, What is Gaussian Distribution (Or Normal Distribution)\n",
    "\n",
    "https://docs.google.com/document/d/1bOZkqMB3MdTBR1_NFtiRGxArFd28GRareWvtuBK5PZ4/edit\n",
    "\n",
    "\n",
    "## Why Gaussian or Gaussian like transformation is required\n",
    "\n",
    "- There are machine learning alogrithms which assumes that data provided them is following Gaussian distribution. For example, Linear and Logistic regression distribution. \n",
    "\n",
    "- In such distributions, the observation of X available to pridict Y, vary across a greater range of values. Hence, Gaussian Distributed variables may boost the performance.\n",
    "\n",
    "\n",
    "## Assumption in Linear regression\n",
    "\n",
    "Linear regression make following assumption over the predictor variable X.\n",
    "\n",
    "1. **Linear Relationship** - \n",
    "    - Linear relationship needs relationship between the independent and dependent variable to be linear.\n",
    "    - This linearity assumption can be validated using scatter plot.\n",
    "    - Its quit valid now, linearity assumption is not valid for ploynominal regression\n",
    "    \n",
    "2. **Multivariate Normality** -\n",
    "    - It requires all variable to be multivariate normal\n",
    "    - This assumption can be validated using Q-Q plot \n",
    "\n",
    "3. **Multicollinearity** -\n",
    "    - Multicollianrity means, correlation between indepenedent features\n",
    "    - Regression assumes that, there is no or little multicolinearity in data.\n",
    "    - Correlation matirx can be used to check this. Unecessory columns can be dropped.\n",
    "\n",
    "4. **Homoscedasticity** - \n",
    "    - Error term is same across all values of independent variables\n",
    "    - The scatter plot is good way to check whether the data are homosedastic, i.e. receduals are equal across the regression line.\n",
    "    - A non-linear correlation might fix homoscedasticity problem\n",
    "    \n",
    "\n",
    "## What about other models\n",
    "\n",
    "    - Other ML models like Neural Network, Support Vector Machines, Tree based methods, PCAs do not make any assumptions on over the distribution of the independent variables.\n",
    "    - Usually we get better model perfromance from a Gaussian like distribution.\n",
    "\n",
    "## What are transformation rechniques\n",
    "\n",
    "1. **Logirithmic transformation**\n",
    "2. **Reciprocal transformation**\n",
    "3. **Square root transformation**\n",
    "4. **Exponencial transformation**\n",
    "5. **Boxcox transformation**"
   ]
  }
 ],
 "metadata": {
  "kernelspec": {
   "display_name": "Python 3",
   "language": "python",
   "name": "python3"
  },
  "language_info": {
   "codemirror_mode": {
    "name": "ipython",
    "version": 3
   },
   "file_extension": ".py",
   "mimetype": "text/x-python",
   "name": "python",
   "nbconvert_exporter": "python",
   "pygments_lexer": "ipython3",
   "version": "3.7.6"
  }
 },
 "nbformat": 4,
 "nbformat_minor": 4
}
