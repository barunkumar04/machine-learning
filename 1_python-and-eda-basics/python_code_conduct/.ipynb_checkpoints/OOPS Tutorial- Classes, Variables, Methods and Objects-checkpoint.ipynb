{
 "cells": [
  {
   "cell_type": "code",
   "execution_count": 9,
   "metadata": {},
   "outputs": [],
   "source": [
    "class Car:\n",
    "    pass # Making an empty class"
   ]
  },
  {
   "cell_type": "code",
   "execution_count": 10,
   "metadata": {},
   "outputs": [],
   "source": [
    "# Lets create a class - not a reccemonded way\n",
    "\n",
    "ford_car = Car()"
   ]
  },
  {
   "cell_type": "code",
   "execution_count": 11,
   "metadata": {},
   "outputs": [
    {
     "data": {
      "text/plain": [
       "<__main__.Car at 0x22f6421de08>"
      ]
     },
     "execution_count": 11,
     "metadata": {},
     "output_type": "execute_result"
    }
   ],
   "source": [
    "ford_car"
   ]
  },
  {
   "cell_type": "code",
   "execution_count": 12,
   "metadata": {},
   "outputs": [],
   "source": [
    "ford_car.name = \"EcoSport\"\n",
    "ford_car.engine_power = 1197"
   ]
  },
  {
   "cell_type": "code",
   "execution_count": 5,
   "metadata": {},
   "outputs": [
    {
     "name": "stdout",
     "output_type": "stream",
     "text": [
      "Ford EcoSport is equipped with 1197 cc engine\n"
     ]
    }
   ],
   "source": [
    "print(\"Ford {} is equipped with {} cc engine\".format(ford_car.name, ford_car.engine_power))"
   ]
  },
  {
   "cell_type": "code",
   "execution_count": 6,
   "metadata": {},
   "outputs": [],
   "source": [
    "# Did you notice that, a user can add any number of attribute in Car object. That is why it is not recemonded."
   ]
  },
  {
   "cell_type": "code",
   "execution_count": 46,
   "metadata": {},
   "outputs": [],
   "source": [
    "# lets create a class in recemonded way\n",
    "class FordCar:\n",
    "    def __init__(self,name, engine_power):\n",
    "        self.name = name\n",
    "        self.engine_power = engine_power\n",
    "    \n",
    "    def is_manual(self):\n",
    "        return \"This car is manual\""
   ]
  },
  {
   "cell_type": "code",
   "execution_count": 48,
   "metadata": {},
   "outputs": [],
   "source": [
    "ford_car1 = FordCar(\"FreeStyle\", 1197)"
   ]
  },
  {
   "cell_type": "code",
   "execution_count": 40,
   "metadata": {},
   "outputs": [],
   "source": [
    "ford_car1.name = \"EcoSport\"\n",
    "ford_car1.engine_power = 1197\n",
    "ford_car1.window = 4\n"
   ]
  },
  {
   "cell_type": "code",
   "execution_count": 41,
   "metadata": {},
   "outputs": [
    {
     "name": "stdout",
     "output_type": "stream",
     "text": [
      "EcoSport\n",
      "1197\n",
      "4\n"
     ]
    }
   ],
   "source": [
    "print(ford_car1.name)\n",
    "print(ford_car1.engine_power)\n",
    "print(ford_car1.window) # Strange I can still add attributes"
   ]
  },
  {
   "cell_type": "code",
   "execution_count": 49,
   "metadata": {},
   "outputs": [
    {
     "name": "stdout",
     "output_type": "stream",
     "text": [
      "This car is manual\n"
     ]
    }
   ],
   "source": [
    "print(ford_car1.is_manual())"
   ]
  }
 ],
 "metadata": {
  "kernelspec": {
   "display_name": "Python 3",
   "language": "python",
   "name": "python3"
  },
  "language_info": {
   "codemirror_mode": {
    "name": "ipython",
    "version": 3
   },
   "file_extension": ".py",
   "mimetype": "text/x-python",
   "name": "python",
   "nbconvert_exporter": "python",
   "pygments_lexer": "ipython3",
   "version": "3.7.6"
  }
 },
 "nbformat": 4,
 "nbformat_minor": 4
}
