{
 "cells": [
  {
   "cell_type": "markdown",
   "metadata": {},
   "source": [
    "# An EDA with python and applying Logistic Regrassion \n",
    "\n",
    "Here we will be use:\n",
    "1. Use Titanic dataset (from KAggle)\n",
    "2. Use python to apply logisitc regrassion\n",
    "3. Predict a classification - servived or Deceased\n",
    "\n",
    "Note: We will be using a semi cleaned dataset version of this dataset, there will be additional cleaning required if actual dataset, for Kaggle, is used."
   ]
  },
  {
   "cell_type": "code",
   "execution_count": null,
   "metadata": {},
   "outputs": [],
   "source": []
  }
 ],
 "metadata": {
  "kernelspec": {
   "display_name": "Python 3",
   "language": "python",
   "name": "python3"
  },
  "language_info": {
   "codemirror_mode": {
    "name": "ipython",
    "version": 3
   },
   "file_extension": ".py",
   "mimetype": "text/x-python",
   "name": "python",
   "nbconvert_exporter": "python",
   "pygments_lexer": "ipython3",
   "version": "3.7.6"
  }
 },
 "nbformat": 4,
 "nbformat_minor": 4
}
